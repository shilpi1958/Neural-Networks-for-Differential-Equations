{
 "cells": [
  {
   "cell_type": "code",
   "execution_count": 11,
   "metadata": {},
   "outputs": [],
   "source": [
    "import autograd.numpy as np\n",
    "from autograd import grad\n",
    "from autograd import elementwise_grad\n",
    "import autograd.numpy.random as npr\n",
    "\n",
    "from matplotlib import pyplot as plt\n",
    "%matplotlib inline\n",
    "\n",
    "nx = 10\n",
    "dx = 1. / nx\n",
    "x_space = np.linspace(0, 2, nx)   "
   ]
  },
  {
   "cell_type": "code",
   "execution_count": 12,
   "metadata": {},
   "outputs": [],
   "source": [
    "#potential field\n",
    "V1 = np.poly1d([1, 5, 16])\n",
    "\n",
    "#Total energy\n",
    "E = 10.0\n",
    "\n",
    "#to find the roots where E=V, p.r\n",
    "p = E-V1\n",
    "\n",
    "\n",
    "def V(x):\n",
    "    return x*x+5*x+16\n",
    "\n",
    "#TISE\n",
    "def f(x, psy, dpsy):\n",
    "    '''\n",
    "        d2(psy)/dx2 = f(x, dpsy/dx, psy)\n",
    "        This is f() function on the right\n",
    "    '''\n",
    "    return psy*(E-V(x))\n",
    "\n",
    "#*2*m/(h*h)"
   ]
  },
  {
   "cell_type": "code",
   "execution_count": 13,
   "metadata": {},
   "outputs": [],
   "source": [
    "#neural_network\n",
    "def sigmoid(x):\n",
    "    return 1. / (1. + np.exp(-x))\n",
    "\n",
    "def neural_network(W, x):\n",
    "    a1 = sigmoid(np.dot(x, W[0]))\n",
    "    return np.dot(a1, W[1])\n",
    "\n",
    "def neural_network_x(x):\n",
    "    a1 = sigmoid(np.dot(x, W[0]))\n",
    "    return np.dot(a1, W[1])\n"
   ]
  },
  {
   "cell_type": "code",
   "execution_count": 14,
   "metadata": {},
   "outputs": [],
   "source": [
    "# trial function\n",
    "def psy_trial(xi, net_out):\n",
    "    return (xi-p.r[0])*(xi-p.r[1])*net_out\n",
    "\n",
    "psy_grad = grad(psy_trial)\n",
    "psy_grad2 = grad(psy_grad)"
   ]
  },
  {
   "cell_type": "code",
   "execution_count": 15,
   "metadata": {},
   "outputs": [],
   "source": [
    "def loss_function(W, x):\n",
    "    loss_sum = 0.\n",
    "    \n",
    "    for xi in x:\n",
    "        net_out = neural_network(W, xi)[0][0]\n",
    "\n",
    "        net_out_d = grad(neural_network_x)(xi)\n",
    "        net_out_dd = grad(grad(neural_network_x))(xi)\n",
    "        \n",
    "        psy_t = psy_trial(xi, net_out)\n",
    "        \n",
    "        gradient_of_trial = psy_grad(xi, net_out)\n",
    "        second_gradient_of_trial = psy_grad2(xi, net_out)\n",
    "        \n",
    "        func = f(xi, psy_t, gradient_of_trial) # right part function\n",
    "        \n",
    "        err_sqr = (second_gradient_of_trial - func)**2\n",
    "        loss_sum += err_sqr\n",
    "        \n",
    "    return loss_sum"
   ]
  },
  {
   "cell_type": "code",
   "execution_count": 16,
   "metadata": {},
   "outputs": [],
   "source": [
    "W = [npr.randn(1, 10), npr.randn(10, 1)]\n",
    "lmb = 0.001\n",
    "for i in range(50):\n",
    "    loss_grad =  grad(loss_function)(W, x_space)\n",
    "    \n",
    "    W[0] = W[0] - lmb * loss_grad[0]\n",
    "    W[1] = W[1] - lmb * loss_grad[1]\n"
   ]
  },
  {
   "cell_type": "code",
   "execution_count": 17,
   "metadata": {},
   "outputs": [],
   "source": [
    "res = [psy_trial(xi, neural_network(W, xi)[0][0]) for xi in x_space] "
   ]
  },
  {
   "cell_type": "code",
   "execution_count": 18,
   "metadata": {},
   "outputs": [
    {
     "data": {
      "image/png": "[encoded data removed]",
      "text/plain": [
       "<Figure size 432x288 with 1 Axes>"
      ]
     },
     "metadata": {
      "needs_background": "light"
     },
     "output_type": "display_data"
    }
   ],
   "source": [
    "plt.figure()\n",
    "plt.plot(x_space, res)\n",
    "plt.show()"
   ]
  },
  {
   "cell_type": "code",
   "execution_count": null,
   "metadata": {},
   "outputs": [],
   "source": []
  },
  {
   "cell_type": "code",
   "execution_count": null,
   "metadata": {},
   "outputs": [],
   "source": []
  },
  {
   "cell_type": "code",
   "execution_count": null,
   "metadata": {},
   "outputs": [],
   "source": []
  }
 ],
 "metadata": {
  "kernelspec": {
   "display_name": "Python 3",
   "language": "python",
   "name": "python3"
  },
  "language_info": {
   "codemirror_mode": {
    "name": "ipython",
    "version": 3
   },
   "file_extension": ".py",
   "mimetype": "text/x-python",
   "name": "python",
   "nbconvert_exporter": "python",
   "pygments_lexer": "ipython3",
   "version": "3.7.3"
  }
 },
 "nbformat": 4,
 "nbformat_minor": 2
}
