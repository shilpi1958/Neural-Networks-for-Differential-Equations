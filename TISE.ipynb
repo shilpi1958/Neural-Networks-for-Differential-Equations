{
 "cells": [
  {
   "cell_type": "code",
   "execution_count": 1,
   "metadata": {},
   "outputs": [],
   "source": [
    "import autograd.numpy as np\n",
    "from autograd import grad\n",
    "from autograd import elementwise_grad\n",
    "import autograd.numpy.random as npr\n",
    "\n",
    "from matplotlib import pyplot as plt\n",
    "%matplotlib inline\n",
    "\n",
    "nx = 10\n",
    "dx = 1. / nx\n",
    "x_space = np.linspace(0, 2, nx)   "
   ]
  },
  {
   "cell_type": "code",
   "execution_count": 2,
   "metadata": {},
   "outputs": [],
   "source": [
    "#potential field\n",
    "V1 = np.poly1d([1, 5, 16])\n",
    "\n",
    "#Total energy\n",
    "E = 1.0\n",
    "\n",
    "#to find the roots where E=V, p.r\n",
    "p = E-V1\n",
    "\n",
    "\n",
    "def V(x):\n",
    "    return x*x\n",
    "\n",
    "#TISE\n",
    "def f(x, psy, dpsy):\n",
    "    '''\n",
    "        d2(psy)/dx2 = f(x, dpsy/dx, psy)\n",
    "        This is f() function on the right\n",
    "    '''\n",
    "    return psy*(E-V(x))\n",
    "\n",
    "#*2*m/(h*h)"
   ]
  },
  {
   "cell_type": "code",
   "execution_count": 3,
   "metadata": {},
   "outputs": [],
   "source": [
    "#neural_network\n",
    "def sigmoid(x):\n",
    "    return 1. / (1. + np.exp(-x))\n",
    "\n",
    "#layer1\n",
    "def neural_network(W, x):\n",
    "    a1 = sigmoid(np.dot(x, W[0]))\n",
    "    return np.dot(a1, W[1])\n",
    "\n",
    "#layer2\n",
    "def neural_network_x(x):\n",
    "    a1 = sigmoid(np.dot(x, W[0]))\n",
    "    return np.dot(a1, W[1])"
   ]
  },
  {
   "cell_type": "code",
   "execution_count": 4,
   "metadata": {},
   "outputs": [],
   "source": [
    "#trial function\n",
    "def psy_trial(xi, net_out):\n",
    "    #return (xi-p.r[0])*(xi-p.r[1])*net_out\n",
    "    return (xi-1)*net_out\n",
    "\n",
    "#gradient of trial function\n",
    "psy_grad = grad(psy_trial)\n",
    "psy_grad2 = grad(psy_grad)"
   ]
  },
  {
   "cell_type": "code",
   "execution_count": 5,
   "metadata": {},
   "outputs": [],
   "source": [
    "def loss_function(W, x):\n",
    "    loss_sum = 0.\n",
    "    \n",
    "    for xi in x:\n",
    "        net_out = neural_network(W, xi)[0][0]\n",
    "\n",
    "        net_out_d = grad(neural_network_x)(xi)\n",
    "        net_out_dd = grad(grad(neural_network_x))(xi)\n",
    "        \n",
    "        psy_t = psy_trial(xi, net_out)\n",
    "        \n",
    "        gradient_of_trial = psy_grad(xi, net_out)\n",
    "        second_gradient_of_trial = psy_grad2(xi, net_out)\n",
    "        \n",
    "        func = f(xi, psy_t, gradient_of_trial) # right part function\n",
    "        \n",
    "        err_sqr = (second_gradient_of_trial - func)**2\n",
    "        loss_sum += err_sqr\n",
    "        \n",
    "    return loss_sum"
   ]
  },
  {
   "cell_type": "code",
   "execution_count": 6,
   "metadata": {},
   "outputs": [
    {
     "name": "stderr",
     "output_type": "stream",
     "text": [
      "C:\\Users\\shilpi jain\\Anaconda3\\lib\\site-packages\\autograd\\tracer.py:14: UserWarning: Output seems independent of input.\n",
      "  warnings.warn(\"Output seems independent of input.\")\n"
     ]
    },
    {
     "name": "stdout",
     "output_type": "stream",
     "text": [
      "[[ 1.57857441 -0.48302499 -0.91631288  1.77928947  0.25480739  1.11905221\n",
      "   0.09097284  0.07513984  0.27612885 -0.42880613]]\n",
      "[[ 5.47645999 33.29735738 -2.77531151 -3.94985042 33.39417324  9.14266993\n",
      "  -9.10800173 13.01219427 -7.40057126  9.35371033]]\n",
      "[[ 1.57403343 -0.51058581 -0.91378623  1.78284175  0.22637498  1.1115077\n",
      "   0.09953427  0.06464719  0.28326392 -0.43642303]]\n",
      "[[ 4.54098708 27.56082093 -2.52664879 -3.55228319 28.43241304  7.54451383\n",
      "  -8.56142417 10.4926538  -7.13507005  7.61690339]]\n",
      "[[ 1.57025028 -0.53355478 -0.91150263  1.7860182   0.20214057  1.10525599\n",
      "   0.10745399  0.05612991  0.28998153 -0.44267245]]\n",
      "[[ 3.78314744 22.96897137 -2.28359721 -3.17644618 24.23440561  6.25170466\n",
      "  -7.91972019  8.51727803 -6.71760979  6.24941683]]\n",
      "[[ 1.56708503 -0.55280615 -0.90945098  1.78884591  0.18146091  1.10005545\n",
      "   0.11469219  0.04917478  0.29619963 -0.44783258]]\n",
      "[[ 3.16524908 19.25137375 -2.05164845 -2.82771166 20.67966214  5.20053877\n",
      "  -7.23820572  6.95512751 -6.21810806  5.16013609]]\n",
      "[[ 1.56442659 -0.56901723 -0.90761697  1.79135422  0.16379584  1.09571388\n",
      "   0.12124534  0.04346495  0.30188265 -0.45211624]]\n",
      "[[ 2.65843638 16.21107863 -1.8340139  -2.5083072  17.66507249  4.34157404\n",
      "  -6.55314968  5.70983535 -5.68301788  4.28365216]]\n",
      "[[ 1.56218617 -0.5827199  -0.90598461  1.79357274  0.14869217  1.09207763\n",
      "   0.12713315  0.03875523  0.30702546 -0.45568836]]\n",
      "[[ 2.24042271 13.70266968 -1.63236075 -2.21852071 15.10366359  3.63624629\n",
      "  -5.8878087   4.70971907 -5.14281062  3.57212075]]\n",
      "[[ 1.56029231 -0.5943371  -0.9045373   1.79553021  0.13576947  1.0890233\n",
      "   0.13238965  0.03485431  0.31164246 -0.45867832]]\n",
      "[[ 1.89385854 11.61719846 -1.44731073 -1.957467   12.92270017  3.05433509\n",
      "  -5.25649501  3.90092162 -4.6170017   2.98996751]]\n",
      "[[ 1.55868717 -0.60420895 -0.90325851  1.79725379  0.12470784  1.08645125\n",
      "   0.13705702  0.0316117   0.31576005 -0.46118868]]\n",
      "[[ 1.60513992  9.87184873 -1.27878503 -1.7235805  11.0616275   2.57205109\n",
      "  -4.66737151  3.2426007  -4.11758092  2.51035696]]\n",
      "[[ 1.55732365 -0.61261174 -0.90213227  1.79876872  0.11523773  1.08428066\n",
      "   0.14118142  0.02890819  0.31941143 -0.46330147]]\n",
      "[[ 1.36352808  8.40279264 -1.12624583 -1.51493358  9.47011735  2.17058347\n",
      "  -4.12439781  2.70351537 -3.6513815   2.11278474]]\n",
      "[[ 1.55616315 -0.61977194 -0.9011434   1.80009816  0.1071314   1.08244567\n",
      "   0.14481011  0.02664861  0.32263316 -0.46508287]]\n",
      "[[ 1.16049213  7.16019763 -0.98886675 -1.32944171  8.10633212  1.83499116\n",
      "  -3.62869626  2.25957597 -3.22172959  1.78140296]]\n"
     ]
    }
   ],
   "source": [
    "#weights\n",
    "W = [npr.randn(1, 10), npr.randn(10, 1)]\n",
    "\n",
    "lmb = 0.001\n",
    "\n",
    "for i in range(10):\n",
    "    loss_grad =  grad(loss_function)(W, x_space)\n",
    "    \n",
    "    W[0] = W[0] - lmb * loss_grad[0]\n",
    "    W[1] = W[1] - lmb * loss_grad[1]\n",
    "    print (W[0])\n",
    "    print (loss_grad[0])\n"
   ]
  },
  {
   "cell_type": "code",
   "execution_count": 9,
   "metadata": {},
   "outputs": [],
   "source": [
    "res = [psy_trial(xi, neural_network(W, xi)[0][0]) for xi in x_space] "
   ]
  },
  {
   "cell_type": "code",
   "execution_count": 11,
   "metadata": {},
   "outputs": [
    {
     "data": {
      "image/png": "[encoded data removed]",
      "text/plain": [
       "<Figure size 432x288 with 1 Axes>"
      ]
     },
     "metadata": {
      "needs_background": "light"
     },
     "output_type": "display_data"
    }
   ],
   "source": [
    "plt.figure()\n",
    "plt.plot(x_space, res)\n",
    "plt.show()\n"
   ]
  },
  {
   "cell_type": "code",
   "execution_count": null,
   "metadata": {},
   "outputs": [],
   "source": []
  },
  {
   "cell_type": "code",
   "execution_count": null,
   "metadata": {},
   "outputs": [],
   "source": []
  },
  {
   "cell_type": "code",
   "execution_count": null,
   "metadata": {},
   "outputs": [],
   "source": []
  }
 ],
 "metadata": {
  "kernelspec": {
   "display_name": "Python 3",
   "language": "python",
   "name": "python3"
  },
  "language_info": {
   "codemirror_mode": {
    "name": "ipython",
    "version": 3
   },
   "file_extension": ".py",
   "mimetype": "text/x-python",
   "name": "python",
   "nbconvert_exporter": "python",
   "pygments_lexer": "ipython3",
   "version": "3.7.3"
  }
 },
 "nbformat": 4,
 "nbformat_minor": 2
}
